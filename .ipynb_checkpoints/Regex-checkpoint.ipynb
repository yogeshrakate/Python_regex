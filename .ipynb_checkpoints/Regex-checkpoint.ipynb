{
 "cells": [
  {
   "cell_type": "markdown",
   "id": "34da0d77",
   "metadata": {},
   "source": [
    "## re — Regular expression operations\n",
    "A RegEx, or Regular Expression, is a sequence of characters that forms a search pattern.<br>\n",
    "RegEx can be used to check if a string contains the specified search pattern.\n",
    "\n",
    "### Topics to Learn\n",
    "\n",
    "- [Metacharacters](#Metacharacters)\n",
    "- [Special Sequences](#Special-Sequences)\n",
    "- [re Functions](#re-Functions)\n",
    "- [re Objects](#re-Objects)\n",
    "- [Match Objects](#Match-Objects)\n",
    "- [re Flags](#re-Flags)"
   ]
  },
  {
   "cell_type": "code",
   "execution_count": 1,
   "id": "ab5bb1ee",
   "metadata": {},
   "outputs": [],
   "source": [
    "# Importing Regular expression module\n",
    "import re"
   ]
  },
  {
   "cell_type": "code",
   "execution_count": 2,
   "id": "a865afe9",
   "metadata": {},
   "outputs": [],
   "source": [
    "Metacharacters\n",
    "Special Sequences\n",
    "re Functions\n",
    "Regular Expression Objects\n",
    "Match Objects\n",
    "re Flags\n",
    "re Exceptions"
   ]
  },
  {
   "cell_type": "markdown",
   "id": "fc950fa2",
   "metadata": {},
   "source": [
    "### Metacharacters\n",
    "- [[] – Square Brackets](#[]-–-Square-Brackets)\n",
    "- [\\ – Backslash](#\\\\-–-Backslash)\n",
    "- [. – Dot](#.-–-Dot)\n",
    "- [^ – Caret](#^-–-Caret)\n",
    "- [\\\\$ – Dollar](#$-–-Dollar)\n",
    "- [* – Star](#*-–-Star)\n",
    "- [+ – Plus](#+-–-Plus)\n",
    "- [? – Question Mark](#?-–-Question-Mark)\n",
    "- [{} – Braces](#{}-–-Braces)\n",
    "- [| – Or](#|-–-Or)\n",
    "- [() – Parenthesis](#()-–-Parenthesis)"
   ]
  },
  {
   "cell_type": "markdown",
   "id": "246c651a",
   "metadata": {},
   "source": [
    "#### [] – Square Brackets\n",
    "Square Brackets ([]) represent a character class consisting of a set of characters that we wish to match. For example, the character class [abc] will match any single a, b, or c. \n",
    "We can also specify a range of characters using – inside the square brackets. For example, \n",
    "\n",
    "- [0, 3] is sample as [0123]\n",
    "- [a-c] is same as [abc]\n",
    "<br>\n",
    "We can also invert the character class using the caret(^) symbol. For example, \n",
    "\n",
    "- [^0-3] means any number except 0, 1, 2, or 3\n",
    "- [^a-c] means any character except a, b, or c"
   ]
  },
  {
   "cell_type": "code",
   "execution_count": null,
   "id": "cc29c17b",
   "metadata": {},
   "outputs": [],
   "source": [
    "txt = \"[^0-3] means any number except 0, 1, 2, or 3\"\n",
    "#Find all lower case characters alphabetically between \"a\" and \"m\":\n",
    "pattern = r\"[a-m]\"\n",
    "print(re.findall(pattern, txt))\n",
    "print()\n",
    "#Find all vowels in the string:\n",
    "pattern = r\"[aeiouAEIOU]\"\n",
    "print(re.findall(pattern, txt))\n",
    "print()\n",
    "#Find all numbers between 2 to 5 in the string:\n",
    "pattern = r\"[2-6]\"\n",
    "print(re.findall(pattern, txt))\n",
    "print()\n",
    "#Find all characters except alphabetical letters in the string:\n",
    "pattern = r\"[^a-zA-Z]\"\n",
    "print(re.findall(pattern, txt))"
   ]
  },
  {
   "cell_type": "markdown",
   "id": "50b74a1c",
   "metadata": {},
   "source": [
    "#### \\ – Backslash\n",
    "The backslash (\\\\) makes sure that the character is not treated in a special way. This can be considered a way of escaping metacharacters."
   ]
  },
  {
   "cell_type": "code",
   "execution_count": null,
   "id": "7e4d9e12",
   "metadata": {},
   "outputs": [],
   "source": [
    "s = 'The value of pi is 3.14'\n",
    " \n",
    "# without using \\\n",
    "match = re.search(r'.', s)\n",
    "print(match)\n",
    " \n",
    "# using \\\n",
    "match = re.search(r'\\.', s)\n",
    "print(match)"
   ]
  },
  {
   "cell_type": "markdown",
   "id": "febd4c3a",
   "metadata": {},
   "source": [
    "#### . – Dot\n",
    "Dot(.) symbol matches only a single character except for the newline character (\\n)."
   ]
  },
  {
   "cell_type": "code",
   "execution_count": null,
   "id": "78235250",
   "metadata": {},
   "outputs": [],
   "source": [
    "string = \"The quick brown fox jumps over the lazy dog.\"\n",
    "pattern = r\"brown..ox\" # two dots - one for white space and one for 'f'\n",
    " \n",
    "match = re.search(pattern, string)\n",
    "if match:\n",
    "    print(\"Match found!\")\n",
    "else:\n",
    "    print(\"Match not found.\")"
   ]
  },
  {
   "cell_type": "markdown",
   "id": "8e491b9c",
   "metadata": {},
   "source": [
    "#### ^ – Caret\n",
    "Caret (^) symbol matches the beginning of the string i.e. checks whether the string starts with the given character(s) or not."
   ]
  },
  {
   "cell_type": "code",
   "execution_count": null,
   "id": "ddd62611",
   "metadata": {},
   "outputs": [],
   "source": [
    "regex = r'^The'\n",
    "strings = ['The quick brown fox', 'The lazy dog', 'A quick brown fox', 'Brown The fox']\n",
    "Matched = []\n",
    "Not_matched = []\n",
    "for string in strings:\n",
    "    if re.match(regex, string):\n",
    "        Matched.append(string)\n",
    "    else:\n",
    "        Not_matched.append(string)\n",
    "print(\"Matched strings: \", Matched)\n",
    "print(\"Not matched strings: \", Not_matched)"
   ]
  },
  {
   "cell_type": "markdown",
   "id": "f0d10a85",
   "metadata": {},
   "source": [
    "#### \\\\$ – Dollar\n",
    "Dollar($) symbol matches the end of the string i.e checks whether the string ends with the given character(s) or not."
   ]
  },
  {
   "cell_type": "code",
   "execution_count": 3,
   "id": "18709c66",
   "metadata": {},
   "outputs": [],
   "source": [
    "string = \"Hello World!\"\n",
    "pattern = r\"!$\"\n",
    " \n",
    "match = re.search(pattern, string)\n",
    "if match:\n",
    "    print(\"Match found!\")\n",
    "else:\n",
    "    print(\"Match not found.\")"
   ]
  },
  {
   "cell_type": "markdown",
   "id": "34040b94",
   "metadata": {},
   "source": [
    "#### * – Star\n",
    "Star (*) symbol matches zero or more occurrences of the regex preceding the * symbol."
   ]
  },
  {
   "cell_type": "code",
   "execution_count": 4,
   "id": "6f856b1d",
   "metadata": {},
   "outputs": [],
   "source": [
    "txt = \"hello planet hellllllllo helo heo\"\n",
    "\n",
    "#Search for a sequence that starts with \"he\", followed by 0 or more \"l\" characters, and an \"o\":\n",
    "\n",
    "re.findall(\"hel*o\", txt)"
   ]
  },
  {
   "cell_type": "markdown",
   "id": "b7e9ea81",
   "metadata": {},
   "source": [
    "#### + – Plus\n",
    "Plus (+) symbol matches one or more occurrences of the regex preceding the + symbol."
   ]
  },
  {
   "cell_type": "code",
   "execution_count": 5,
   "id": "b7a0d23e",
   "metadata": {},
   "outputs": [],
   "source": [
    "txt = \"hello planet hellllllllo helo heo\"\n",
    "\n",
    "#Search for a sequence that starts with \"he\", followed by 1 or more \"l\" characters, and an \"o\":\n",
    "\n",
    "re.findall(\"hel+o\", txt)"
   ]
  },
  {
   "cell_type": "markdown",
   "id": "76a838b0",
   "metadata": {},
   "source": [
    "#### ? – Question Mark\n",
    "Question mark(?) checks if the string before the question mark in the regex occurs at least once or not at all."
   ]
  },
  {
   "cell_type": "code",
   "execution_count": 6,
   "id": "dea1c615",
   "metadata": {},
   "outputs": [],
   "source": [
    "txt = \"hello planet hellllllllo helo heo\"\n",
    "\n",
    "#Search for a sequence that starts with \"he\", followed by 0 or 1 \"l\" characters, and an \"o\":\n",
    "\n",
    "re.findall(\"hel?o\", txt)"
   ]
  },
  {
   "cell_type": "markdown",
   "id": "c0497b42",
   "metadata": {},
   "source": [
    "#### {} – Braces\n",
    "- {m}<br>\n",
    "Specifies that exactly m copies of the previous RE should be matched.\n",
    "- {m,n}<br>\n",
    "Causes the resulting RE to match from m to n repetitions of the preceding RE, attempting to match as many repetitions as possible.\n",
    "- {m,n}?<br>\n",
    "Causes the resulting RE to match from m to n repetitions of the preceding RE, attempting to match as few repetitions as possible.\n",
    "- {m,n}+<br>\n",
    "Causes the resulting RE to match from m to n repetitions of the preceding RE, attempting to match as many repetitions as possible without establishing any backtracking points."
   ]
  },
  {
   "cell_type": "code",
   "execution_count": 7,
   "id": "96f58b9b",
   "metadata": {},
   "outputs": [],
   "source": [
    "txt = \"hello planet hellllllllo helo heo\"\n",
    "\n",
    "#Search for a sequence that starts with \"he\", followed by exactly 2 \"l\" characters, and an \"o\":\n",
    "\n",
    "re.findall(\"hel{2}o\", txt)"
   ]
  },
  {
   "cell_type": "code",
   "execution_count": 8,
   "id": "54776e82",
   "metadata": {},
   "outputs": [],
   "source": [
    "txt = \"hello planet hellllllllo helo heo\"\n",
    "\n",
    "#Search for a sequence that starts with \"he\", followed by exactly 0 to 3 \"l\" characters, and an \"o\":\n",
    "\n",
    "re.findall(\"hel{0,3}o\", txt)"
   ]
  },
  {
   "cell_type": "code",
   "execution_count": 9,
   "id": "33f19545",
   "metadata": {},
   "outputs": [],
   "source": [
    "txt = \"aaaaaaa\"\n",
    "\n",
    "print(\"Without question mark\")\n",
    "print(re.findall(\"a{3,5}\", txt))\n",
    "\n",
    "# match as few repetitions as possible\n",
    "print(\"With question mark\")\n",
    "print(re.findall(\"a{3,5}?\", txt))"
   ]
  },
  {
   "cell_type": "code",
   "execution_count": 10,
   "id": "e871a1c5",
   "metadata": {},
   "outputs": [],
   "source": [
    "txt = \"aaaaaaaaa\"\n",
    "\n",
    "print(\"Without + sign\")\n",
    "print(re.findall(\"a{3,5}\", txt))\n",
    "\n",
    "# match as many repetitions as possible\n",
    "print(\"With + sign\")\n",
    "print(re.findall(\"a{3,5}+\", txt))"
   ]
  },
  {
   "cell_type": "markdown",
   "id": "b76aff1f",
   "metadata": {},
   "source": [
    "#### | – Or\n",
    "A|B, where A and B can be arbitrary REs, creates a regular expression that will match either A or B."
   ]
  },
  {
   "cell_type": "code",
   "execution_count": 11,
   "id": "3aaca7fc",
   "metadata": {},
   "outputs": [],
   "source": [
    "txt = \"The rain in Spain falls mainly in the plain!\"\n",
    "\n",
    "#Check if the string contains either \"falls\" or \"stays\":\n",
    "\n",
    "x = re.findall(\"falls|stays\", txt)\n",
    "\n",
    "print(x)"
   ]
  },
  {
   "cell_type": "markdown",
   "id": "c9389395",
   "metadata": {},
   "source": [
    "#### () – Parenthesis\n",
    "Group symbol is used to capture and group sub-patterns. "
   ]
  },
  {
   "cell_type": "code",
   "execution_count": 12,
   "id": "78d04907",
   "metadata": {},
   "outputs": [],
   "source": [
    "txt = \"acd abd adbc abcd dabcd\"\n",
    "\n",
    "re.findall(\"(a|b)cd\", txt)"
   ]
  },
  {
   "cell_type": "markdown",
   "id": "5493b53e",
   "metadata": {},
   "source": [
    "[<p style=\"text-align:right\">[Back to Current Topic]</p>](#Metacharacters)\n",
    "[<p style=\"text-align:right\">[Back to top]</p>](#re-—-Regular-expression-operations)"
   ]
  },
  {
   "cell_type": "markdown",
   "id": "ac7e280c",
   "metadata": {},
   "source": [
    "### Special Sequences\n",
    "- [\\A](#\\A)\n",
    "- [\\b](#\\b)\n",
    "- [\\B](#\\B)\n",
    "- [\\d](#\\d)\n",
    "- [\\D](#\\D)\n",
    "- [\\s](#\\s)\n",
    "- [\\S](#\\S)\n",
    "- [\\w](#\\w)\n",
    "- [\\W](#\\W)\n",
    "- [\\Z](#\\Z)"
   ]
  },
  {
   "cell_type": "markdown",
   "id": "349c4dce",
   "metadata": {},
   "source": [
    "#### \\A\n",
    "Returns a match if the specified characters are at the beginning of the string"
   ]
  },
  {
   "cell_type": "code",
   "execution_count": 13,
   "id": "d2ca1213",
   "metadata": {},
   "outputs": [],
   "source": [
    "txt = \"The rain in Spain\"\n",
    "x = re.findall(\"\\AThe\", txt)\n",
    "print(x)\n",
    "if x:\n",
    "    print(\"Yes, there is a match!\")\n",
    "else:\n",
    "    print(\"No match\")"
   ]
  },
  {
   "cell_type": "code",
   "execution_count": 14,
   "id": "cbad5dcc",
   "metadata": {},
   "outputs": [],
   "source": [
    "txt = \"the rain in The Spain\"\n",
    "x = re.findall(\"\\AThe\", txt)\n",
    "print(x)\n",
    "if x:\n",
    "    print(\"Yes, there is a match!\")\n",
    "else:\n",
    "    print(\"No match\")"
   ]
  },
  {
   "cell_type": "markdown",
   "id": "133130e0",
   "metadata": {},
   "source": [
    "#### \\b\n",
    "Returns a match where the specified characters are at the beginning or at the end of a word (the \"r\" in the beginning is making sure that the string is being treated as a \"raw string\")"
   ]
  },
  {
   "cell_type": "code",
   "execution_count": 15,
   "id": "0d61c7c6",
   "metadata": {},
   "outputs": [],
   "source": [
    "txt = \"The rain in Spain\"\n",
    "\n",
    "#Check if \"ain\" is present at the beginning of a WORD:\n",
    "\n",
    "x = re.findall(r\"\\bain\", txt)\n",
    "print(x)\n",
    "if x:\n",
    "    print(\"Yes, there is at least one match!\")\n",
    "else:\n",
    "    print(\"No match\")"
   ]
  },
  {
   "cell_type": "code",
   "execution_count": 16,
   "id": "67a5ad9f",
   "metadata": {},
   "outputs": [],
   "source": [
    "txt = \"The rain in Spain\"\n",
    "\n",
    "#Check if \"rain\" is present at the beginning of a WORD:\n",
    "\n",
    "x = re.findall(r\"\\brain\", txt)\n",
    "print(x)\n",
    "if x:\n",
    "    print(\"Yes, there is at least one match!\")\n",
    "else:\n",
    "    print(\"No match\")"
   ]
  },
  {
   "cell_type": "code",
   "execution_count": 17,
   "id": "20e17431",
   "metadata": {},
   "outputs": [],
   "source": [
    "txt = \"The rain in Spain\"\n",
    "\n",
    "#Check if \"ain\" is present at the end of a WORD:\n",
    "\n",
    "x = re.findall(r\"ain\\b\", txt)\n",
    "print(x)\n",
    "if x:\n",
    "    print(f\"Yes, there is at least one match!\")\n",
    "else:\n",
    "    print(\"No match\")"
   ]
  },
  {
   "cell_type": "markdown",
   "id": "51af20c9",
   "metadata": {},
   "source": [
    "#### \\B\n",
    "Returns a match where the specified characters are present, but NOT at the beginning (or at the end) of a word (the \"r\" in the beginning is making sure that the string is being treated as a \"raw string\")"
   ]
  },
  {
   "cell_type": "code",
   "execution_count": 18,
   "id": "c9e37be8",
   "metadata": {},
   "outputs": [],
   "source": [
    "txt = \"The rain in Spain\"\n",
    "\n",
    "#Check if \"ain\" is present, but NOT at the beginning of a word:\n",
    "\n",
    "x = re.findall(r\"\\Bain\", txt)\n",
    "print(x)\n",
    "if x:\n",
    "    print(\"Yes, there is at least one match!\")\n",
    "else:\n",
    "    print(\"No match\")"
   ]
  },
  {
   "cell_type": "code",
   "execution_count": 19,
   "id": "df045294",
   "metadata": {},
   "outputs": [],
   "source": [
    "txt = \"The rain in Spain\"\n",
    "\n",
    "#Check if \"ain\" is present, but NOT at the end of a word:\n",
    "\n",
    "x = re.findall(r\"ain\\B\", txt)\n",
    "print(x)\n",
    "if x:\n",
    "    print(\"Yes, there is at least one match!\")\n",
    "else:\n",
    "    print(\"No match\")"
   ]
  },
  {
   "cell_type": "markdown",
   "id": "7a68c4a4",
   "metadata": {},
   "source": [
    "#### \\d\n",
    "Returns a match where the string contains digits (numbers from 0-9)"
   ]
  },
  {
   "cell_type": "code",
   "execution_count": 20,
   "id": "ff07b334",
   "metadata": {},
   "outputs": [],
   "source": [
    "txt = \"The rain in Spain\"\n",
    "\n",
    "#Check if the string contains any digits (numbers from 0-9):\n",
    "\n",
    "x = re.findall(\"\\d\", txt)\n",
    "print(x)\n",
    "if x:\n",
    "    print(\"Yes, there is at least one match!\")\n",
    "else:\n",
    "    print(\"No match\")"
   ]
  },
  {
   "cell_type": "code",
   "execution_count": 21,
   "id": "5e0711c3",
   "metadata": {},
   "outputs": [],
   "source": [
    "txt = \"The rain in 1Spain\"\n",
    "\n",
    "#Check if the string contains any digits (numbers from 0-9):\n",
    "\n",
    "x = re.findall(\"\\d\", txt)\n",
    "print(x)\n",
    "if x:\n",
    "    print(\"Yes, there is at least one match!\")\n",
    "else:\n",
    "    print(\"No match\")"
   ]
  },
  {
   "cell_type": "markdown",
   "id": "edd9d20a",
   "metadata": {},
   "source": [
    "#### \\D\n",
    "Returns a match where the string DOES NOT contain digits"
   ]
  },
  {
   "cell_type": "code",
   "execution_count": 22,
   "id": "575bd613",
   "metadata": {},
   "outputs": [],
   "source": [
    "txt = \"The rain in Spain\"\n",
    "\n",
    "#Return a match at every no-digit character:\n",
    "\n",
    "x = re.findall(\"\\D\", txt)\n",
    "print(x)\n",
    "if x:\n",
    "    print(\"Yes, there is at least one match!\")\n",
    "else:\n",
    "    print(\"No match\")"
   ]
  },
  {
   "cell_type": "code",
   "execution_count": 23,
   "id": "51d9bec1",
   "metadata": {},
   "outputs": [],
   "source": [
    "txt = \"123456789\"\n",
    "\n",
    "#Return a match at every no-digit character:\n",
    "\n",
    "x = re.findall(\"\\D\", txt)\n",
    "print(x)\n",
    "if x:\n",
    "    print(\"Yes, there is at least one match!\")\n",
    "else:\n",
    "    print(\"No match\")"
   ]
  },
  {
   "cell_type": "markdown",
   "id": "0cb0aa59",
   "metadata": {},
   "source": [
    "#### \\s\n",
    "Returns a match where the string contains a white space character"
   ]
  },
  {
   "cell_type": "code",
   "execution_count": 24,
   "id": "2a821d1e",
   "metadata": {},
   "outputs": [],
   "source": [
    "txt = \"The rain in Spain\"\n",
    "\n",
    "#Return a match at every white-space character:\n",
    "\n",
    "x = re.findall(\"\\s\", txt)\n",
    "print(x)\n",
    "if x:\n",
    "    print(\"Yes, there is at least one match!\")\n",
    "else:\n",
    "    print(\"No match\")"
   ]
  },
  {
   "cell_type": "code",
   "execution_count": 25,
   "id": "e1d99147",
   "metadata": {},
   "outputs": [],
   "source": [
    "txt = \"TheRainInSpain\"\n",
    "\n",
    "#Return a match at every white-space character:\n",
    "\n",
    "x = re.findall(\"\\s\", txt)\n",
    "print(x)\n",
    "if x:\n",
    "    print(\"Yes, there is at least one match!\")\n",
    "else:\n",
    "    print(\"No match\")"
   ]
  },
  {
   "cell_type": "markdown",
   "id": "0748d5d4",
   "metadata": {},
   "source": [
    "#### \\S\n",
    "Returns a match where the string DOES NOT contain a white space character"
   ]
  },
  {
   "cell_type": "code",
   "execution_count": 26,
   "id": "399f5b15",
   "metadata": {},
   "outputs": [],
   "source": [
    "txt = \"The rain in Spain\"\n",
    "\n",
    "#Return a match at every NON white-space character:\n",
    "\n",
    "x = re.findall(\"\\S\", txt)\n",
    "print(x)\n",
    "if x:\n",
    "    print(\"Yes, there is at least one match!\")\n",
    "else:\n",
    "    print(\"No match\")"
   ]
  },
  {
   "cell_type": "code",
   "execution_count": 27,
   "id": "9b3cd4ae",
   "metadata": {},
   "outputs": [],
   "source": [
    "txt = \"     \"\n",
    "\n",
    "#Return a match at every NON white-space character:\n",
    "\n",
    "x = re.findall(\"\\S\", txt)\n",
    "print(x)\n",
    "if x:\n",
    "    print(\"Yes, there is at least one match!\")\n",
    "else:\n",
    "    print(\"No match\")"
   ]
  },
  {
   "cell_type": "markdown",
   "id": "69ea23a5",
   "metadata": {},
   "source": [
    "#### \\w\n",
    "Returns a match where the string contains any word characters (characters from a to Z, digits from 0-9, and the underscore _ character)"
   ]
  },
  {
   "cell_type": "code",
   "execution_count": 28,
   "id": "c6795738",
   "metadata": {},
   "outputs": [],
   "source": [
    "txt = \"The rain in Spain\"\n",
    "\n",
    "#Return a match at every word character (characters from a to Z, digits from 0-9, and the underscore _ character):\n",
    "\n",
    "x = re.findall(\"\\w\", txt)\n",
    "print(x)\n",
    "if x:\n",
    "    print(\"Yes, there is at least one match!\")\n",
    "else:\n",
    "    print(\"No match\")"
   ]
  },
  {
   "cell_type": "code",
   "execution_count": 29,
   "id": "bac5d20b",
   "metadata": {},
   "outputs": [],
   "source": [
    "txt = \"@# $%^\"\n",
    "\n",
    "#Return a match at every word character (characters from a to Z, digits from 0-9, and the underscore _ character):\n",
    "\n",
    "x = re.findall(\"\\w\", txt)\n",
    "print(x)\n",
    "if x:\n",
    "    print(\"Yes, there is at least one match!\")\n",
    "else:\n",
    "    print(\"No match\")"
   ]
  },
  {
   "cell_type": "markdown",
   "id": "3f52a698",
   "metadata": {},
   "source": [
    "#### \\W\n",
    "Returns a match where the string DOES NOT contain any word characters"
   ]
  },
  {
   "cell_type": "code",
   "execution_count": 30,
   "id": "e0fd02ab",
   "metadata": {},
   "outputs": [],
   "source": [
    "txt = \"The rain in Spain\"\n",
    "\n",
    "#Return a match at every NON word character (characters NOT between a and Z. Like \"!\", \"?\" white-space etc.):\n",
    "\n",
    "x = re.findall(\"\\W\", txt)\n",
    "print(x)\n",
    "if x:\n",
    "    print(\"Yes, there is at least one match!\")\n",
    "else:\n",
    "    print(\"No match\")"
   ]
  },
  {
   "cell_type": "markdown",
   "id": "6e059ac2",
   "metadata": {},
   "source": [
    "#### \\Z\n",
    "Returns a match if the specified characters are at the end of the string"
   ]
  },
  {
   "cell_type": "code",
   "execution_count": 31,
   "id": "628b2db9",
   "metadata": {},
   "outputs": [],
   "source": [
    "txt = \"The rain in Spain\"\n",
    "\n",
    "#Check if the string ends with \"Spain\":\n",
    "\n",
    "x = re.findall(\"Spain\\Z\", txt)\n",
    "print(x)\n",
    "if x:\n",
    "    print(\"Yes, there is a match!\")\n",
    "else:\n",
    "    print(\"No match\")"
   ]
  },
  {
   "cell_type": "code",
   "execution_count": 32,
   "id": "2270bec9",
   "metadata": {},
   "outputs": [],
   "source": [
    "txt = \"The rain in Spainish city\"\n",
    "\n",
    "#Check if the string ends with \"Spain\":\n",
    "\n",
    "x = re.findall(\"Spain\\Z\", txt)\n",
    "print(x)\n",
    "if x:\n",
    "    print(\"Yes, there is a match!\")\n",
    "else:\n",
    "    print(\"No match\")"
   ]
  },
  {
   "cell_type": "markdown",
   "id": "78c0bc75",
   "metadata": {},
   "source": [
    "[<p style=\"text-align:right\">[Back to Current Topic]</p>](#Special-Sequences)\n",
    "[<p style=\"text-align:right\">[Back to top]</p>](#re-—-Regular-expression-operations)"
   ]
  },
  {
   "cell_type": "markdown",
   "id": "967f51a2",
   "metadata": {},
   "source": [
    "### re Functions\n",
    "- [re.compile](#re.compile)\n",
    "- [re.search](#re.search)\n",
    "- [re.match](#re.match)\n",
    "- [re.fullmatch](#re.fullmatch)\n",
    "- [re.split](#re.split)\n",
    "- [re.findall](#re.findall)\n",
    "- [re.finditer](#re.finditer)\n",
    "- [re.sub](#re.sub)\n",
    "- [re.subn](#re.subn)\n",
    "- [re.escape](#re.escape)\n",
    "- [re.purge](#re.purge)"
   ]
  },
  {
   "cell_type": "markdown",
   "id": "9f525762",
   "metadata": {},
   "source": [
    "#### re.compile\n",
    "Regular expressions are compiled into pattern objects, which have methods for various operations such as searching for pattern matches or performing string substitutions. \n",
    "<p style=\"background-color:yellow\">SYNTAX - re.compile(pattern, flags=0)</p>"
   ]
  },
  {
   "cell_type": "code",
   "execution_count": 33,
   "id": "7dda1c5b",
   "metadata": {},
   "outputs": [],
   "source": [
    "a_to_e = re.compile('[a-e]')\n",
    "print(a_to_e)"
   ]
  },
  {
   "cell_type": "code",
   "execution_count": 34,
   "id": "bf802102",
   "metadata": {},
   "outputs": [],
   "source": [
    "digits = re.compile('\\d')\n",
    "print(digits)"
   ]
  },
  {
   "cell_type": "markdown",
   "id": "fd0622ca",
   "metadata": {},
   "source": [
    "#### re.search\n",
    "Scan through string looking for the first location where the regular expression pattern produces a match, and return a corresponding match object. Return None if no position in the string matches the pattern; note that this is different from finding a zero-length match at some point in the string.\n",
    "<p style=\"background-color:yellow\">SYNTAX - re.search(pattern, string, flags=0)</p>"
   ]
  },
  {
   "cell_type": "code",
   "execution_count": 35,
   "id": "93f1d523",
   "metadata": {},
   "outputs": [],
   "source": [
    "s = 'I am a software developer'\n",
    "match = re.search(r'soft', s)\n",
    "print(match)\n",
    "print('Start Index:', match.start())\n",
    "print('End Index:', match.end())"
   ]
  },
  {
   "cell_type": "code",
   "execution_count": 36,
   "id": "98ad5fa2",
   "metadata": {},
   "outputs": [],
   "source": [
    "regex = r\"([a-zA-Z]+) (\\d+)\"\n",
    "\n",
    "match = re.search(regex, \"I was born on March 14\")\n",
    "if match != None:\n",
    "    print(\"match found: \", match)\n",
    "    print(\"Match at index %s, %s\" % (match.start(), match.end()))\n",
    "    print(\"Full match: %s\" % (match.group(0)))\n",
    "    print(\"Month: %s\" % (match.group(1)))\n",
    "    print(\"Day: %s\" % (match.group(2)))\n",
    "else:\n",
    "    print(\"The regex pattern does not match.\")"
   ]
  },
  {
   "cell_type": "code",
   "execution_count": 37,
   "id": "d454cfb2",
   "metadata": {},
   "outputs": [],
   "source": [
    "s = 'I am a software developer'\n",
    "match = re.search(r'hardware', s)\n",
    "print(match)"
   ]
  },
  {
   "cell_type": "markdown",
   "id": "557d545e",
   "metadata": {},
   "source": [
    "#### re.match\n",
    "If zero or more characters at the beginning of string match the regular expression pattern, return a corresponding match object. Return None if the string does not match the pattern; note that this is different from a zero-length match.\n",
    "<br>\n",
    "Note that even in MULTILINE mode, re.match() will only match at the beginning of the string and not at the beginning of each line.\n",
    "<br>\n",
    "If you want to locate a match anywhere in string, use search() instead (see also search() vs. match()).\n",
    "<p style=\"background-color:yellow\">SYNTAX - re.match(pattern, string, flags=0)</p>"
   ]
  },
  {
   "cell_type": "code",
   "execution_count": 38,
   "id": "082ef500",
   "metadata": {},
   "outputs": [],
   "source": [
    "regex = r\"([a-zA-Z]+) (\\d+)\"\n",
    "match = re.match(regex, \"I was born on March 14\")\n",
    "print(match)"
   ]
  },
  {
   "cell_type": "code",
   "execution_count": 39,
   "id": "0d635313",
   "metadata": {},
   "outputs": [],
   "source": [
    "regex = r\"[a-zA-Z]+\\s\\d+\"\n",
    "match = re.match(regex, \"March 14 is my birth date\")\n",
    "print(match)"
   ]
  },
  {
   "cell_type": "markdown",
   "id": "36349941",
   "metadata": {},
   "source": [
    "#### re.fullmatch\n",
    "If the whole string matches the regular expression pattern, return a corresponding match object. Return None if the string does not match the pattern; note that this is different from a zero-length match.\n",
    "<p style=\"background-color:yellow\">SYNTAX - re.fullmatch(pattern, string, flags=0)</p>"
   ]
  },
  {
   "cell_type": "code",
   "execution_count": 40,
   "id": "21aad40c",
   "metadata": {},
   "outputs": [],
   "source": [
    "string = 'Python'\n",
    "pattern = 'P[h-y]{3}on'\n",
    "print(re.fullmatch(pattern, string))"
   ]
  },
  {
   "cell_type": "markdown",
   "id": "ab5a1c8d",
   "metadata": {},
   "source": [
    "#### re.split\n",
    "Split string by the occurrences of pattern. If capturing parentheses are used in pattern, then the text of all groups in the pattern are also returned as part of the resulting list. If maxsplit is nonzero, at most maxsplit splits occur, and the remainder of the string is returned as the final element of the list.\n",
    "<p style=\"background-color:yellow\">SYNTAX - re.split(pattern, string, maxsplit=0, flags=0)</p>"
   ]
  },
  {
   "cell_type": "code",
   "execution_count": 41,
   "id": "a28fba92",
   "metadata": {},
   "outputs": [],
   "source": [
    "re.split(r'\\W+', 'Words, words,,,,, words.')"
   ]
  },
  {
   "cell_type": "code",
   "execution_count": 42,
   "id": "3324de4c",
   "metadata": {},
   "outputs": [],
   "source": [
    "re.split(r'(\\W+)', 'Words, words, words.')"
   ]
  },
  {
   "cell_type": "code",
   "execution_count": 43,
   "id": "134c5706",
   "metadata": {},
   "outputs": [],
   "source": [
    "re.split(r'\\W+', 'Words, words, words.', maxsplit=1)"
   ]
  },
  {
   "cell_type": "code",
   "execution_count": 44,
   "id": "cea2248f",
   "metadata": {},
   "outputs": [],
   "source": [
    "re.split('[a-f]+', '0a3B9', flags=re.IGNORECASE)"
   ]
  },
  {
   "cell_type": "markdown",
   "id": "2e1735c0",
   "metadata": {},
   "source": [
    "#### re.findall\n",
    "Return all non-overlapping matches of pattern in string, as a list of strings or tuples. The string is scanned left-to-right, and matches are returned in the order found. Empty matches are included in the result.\n",
    "<p style=\"background-color:yellow\">SYNTAX - re.findall(pattern, string, flags=0)</p>"
   ]
  },
  {
   "cell_type": "code",
   "execution_count": 45,
   "id": "34393395",
   "metadata": {},
   "outputs": [],
   "source": [
    "string = \"The quick brown fox jumps over the lazy dog\"\n",
    "pattern = \"[aeiou]\"\n",
    "re.findall(pattern, string)"
   ]
  },
  {
   "cell_type": "code",
   "execution_count": 46,
   "id": "3a43f4f0",
   "metadata": {},
   "outputs": [],
   "source": [
    "re.findall(\"ai\", \"The rain in Spain\")"
   ]
  },
  {
   "cell_type": "code",
   "execution_count": 47,
   "id": "63474d5b",
   "metadata": {},
   "outputs": [],
   "source": [
    "# words containing \"in\" in it\n",
    "txt = \"The raining in Spain\"\n",
    "pattern = r\"[a-zA-Z]*in[a-z]*\"\n",
    "re.findall(pattern, txt)"
   ]
  },
  {
   "cell_type": "code",
   "execution_count": 48,
   "id": "1066748b",
   "metadata": {},
   "outputs": [],
   "source": [
    "print(re.findall(r'\\w+=\\d+', 'set width=20 and height=10'))\n",
    "print(re.findall(r'(\\w+)=(\\d+)', 'set width=20 and height=10'))"
   ]
  },
  {
   "cell_type": "markdown",
   "id": "4ca82012",
   "metadata": {},
   "source": [
    "#### re.finditer\n",
    "Return an iterator yielding match objects over all non-overlapping matches for the RE pattern in string. The string is scanned left-to-right, and matches are returned in the order found. Empty matches are included in the result.\n",
    "<p style=\"background-color:yellow\">SYNTAX - re.finditer(pattern, string, flags=0)</p>"
   ]
  },
  {
   "cell_type": "code",
   "execution_count": 49,
   "id": "7ac32fbc",
   "metadata": {},
   "outputs": [],
   "source": [
    "s1 = 'Blue Berries Blue Berries Blue Berries'\n",
    "pattern = 'Blue'\n",
    "match = re.finditer(pattern, s1)\n",
    "print(\"Iterator object generated: \", match)\n",
    "for i in match:\n",
    "    s = i.start()\n",
    "    e = i.end()\n",
    "    print('String match \"%s\" at %d:%d' % (s1[s:e], s, e))"
   ]
  },
  {
   "cell_type": "code",
   "execution_count": 50,
   "id": "d325fdcb",
   "metadata": {},
   "outputs": [],
   "source": [
    "s1 = 'Blue Berries Blue Berries Blue Berries'\n",
    "pattern = 'Blue'\n",
    "match = re.findall(pattern, s1)\n",
    "print(\"List generated: \", match)"
   ]
  },
  {
   "cell_type": "markdown",
   "id": "7df12d40",
   "metadata": {},
   "source": [
    "#### re.sub\n",
    "Return the string obtained by replacing the leftmost non-overlapping occurrences of pattern in string by the replacement repl. If the pattern isn’t found, string is returned unchanged. repl can be a string or a function; if it is a string, any backslash escapes in it are processed. That is, \\n is converted to a single newline character, \\r is converted to a carriage return, and so forth.\n",
    "<p style=\"background-color:yellow\">SYNTAX - re.sub(pattern, repl, string, count=0, flags=0)</p>"
   ]
  },
  {
   "cell_type": "code",
   "execution_count": 51,
   "id": "ad19896d",
   "metadata": {},
   "outputs": [],
   "source": [
    "re.sub(r'def\\s+([a-zA-Z_][a-zA-Z_0-9]*)\\s*\\(\\s*\\):',\n",
    "       r'static PyObject*\\npy_\\1(void)\\n{',\n",
    "       'def myfunc():')"
   ]
  },
  {
   "cell_type": "code",
   "execution_count": 52,
   "id": "0bcf43f0",
   "metadata": {},
   "outputs": [],
   "source": [
    "re.sub(r'\\sAND\\s', ' & ', 'Baked Beans And Spam', flags=re.IGNORECASE)"
   ]
  },
  {
   "cell_type": "code",
   "execution_count": 53,
   "id": "4ce8ac73",
   "metadata": {},
   "outputs": [],
   "source": [
    "def dashrepl(matchobj):\n",
    "    if matchobj.group(0) == '-': return ' '\n",
    "    else: return '-'\n",
    "    \n",
    "re.sub('-{1,2}', dashrepl, 'pro----gram-files')"
   ]
  },
  {
   "cell_type": "markdown",
   "id": "81ffeaba",
   "metadata": {},
   "source": [
    "#### re.subn\n",
    "Perform the same operation as sub(), but return a tuple (new_string, number_of_subs_made).\n",
    "<p style=\"background-color:yellow\">SYNTAX - re.subn(pattern, repl, string, count=0, flags=0)</p>"
   ]
  },
  {
   "cell_type": "code",
   "execution_count": 54,
   "id": "7e8d829e",
   "metadata": {},
   "outputs": [],
   "source": [
    "re.subn(r'\\sAND\\s', ' & ', 'Baked Beans And Spam', flags=re.IGNORECASE)"
   ]
  },
  {
   "cell_type": "markdown",
   "id": "23bd3c47",
   "metadata": {},
   "source": [
    "#### re.escape\n",
    "Escape special characters in pattern. This is useful if you want to match an arbitrary literal string that may have regular expression metacharacters in it.\n",
    "<p style=\"background-color:yellow\">SYNTAX - re.escape(pattern)</p>"
   ]
  },
  {
   "cell_type": "code",
   "execution_count": 55,
   "id": "d992da82",
   "metadata": {},
   "outputs": [],
   "source": [
    "re.escape('https://www.python.org')"
   ]
  },
  {
   "cell_type": "code",
   "execution_count": 56,
   "id": "e5b85fe2",
   "metadata": {},
   "outputs": [],
   "source": [
    "re.escape(\"!#$%&'*+-.^_`|~:\")"
   ]
  },
  {
   "cell_type": "code",
   "execution_count": 57,
   "id": "ef9996f2",
   "metadata": {},
   "outputs": [],
   "source": [
    "re.escape(\"I Asked what is this [a-9], he said \\t ^WoW\")"
   ]
  },
  {
   "cell_type": "markdown",
   "id": "9fe95636",
   "metadata": {},
   "source": [
    "#### re.purge\n",
    "Clear the regular expression cache."
   ]
  },
  {
   "cell_type": "markdown",
   "id": "ee6b3c52",
   "metadata": {},
   "source": [
    "[<p style=\"text-align:right\">[Back to Current Topic]</p>](#re-Functions)\n",
    "[<p style=\"text-align:right\">[Back to top]</p>](#re-—-Regular-expression-operations)"
   ]
  },
  {
   "cell_type": "markdown",
   "id": "1d6da1c0",
   "metadata": {},
   "source": [
    "### re Objects\n",
    "- [Pattern.search](#Pattern.search)\n",
    "- [Pattern.match](#Pattern.match)\n",
    "- [Pattern.fullmatch](#Pattern.fullmatch)\n",
    "- [Pattern.split](#Pattern.split)\n",
    "- [Pattern.findall](#Pattern.findall)\n",
    "- [Pattern.finditer](#Pattern.finditer)\n",
    "- [Pattern.sub](#Pattern.sub)\n",
    "- [Pattern.subn](#Pattern.subn)\n",
    "- [Pattern.flags](#Pattern.flags)\n",
    "- [Pattern.groups](#Pattern.groups)\n",
    "- [Pattern.groupindex](#Pattern.groupindex)\n",
    "- [Pattern.pattern](#Pattern.pattern)"
   ]
  },
  {
   "cell_type": "markdown",
   "id": "691de1d7",
   "metadata": {},
   "source": [
    "#### Pattern.search\n",
    "<p style=\"background-color:yellow\">SYNTAX - Pattern.search</p>"
   ]
  },
  {
   "cell_type": "markdown",
   "id": "b5cd1572",
   "metadata": {},
   "source": [
    "#### Pattern.match\n",
    "<p style=\"background-color:yellow\">SYNTAX - Pattern.match</p>"
   ]
  },
  {
   "cell_type": "markdown",
   "id": "44ebeb4c",
   "metadata": {},
   "source": [
    "#### Pattern.fullmatch\n",
    "<p style=\"background-color:yellow\">SYNTAX - Pattern.fullmatch</p>"
   ]
  },
  {
   "cell_type": "markdown",
   "id": "58433d60",
   "metadata": {},
   "source": [
    "#### Pattern.split\n",
    "<p style=\"background-color:yellow\">SYNTAX - Pattern.split</p>"
   ]
  },
  {
   "cell_type": "markdown",
   "id": "24c36efc",
   "metadata": {},
   "source": [
    "#### Pattern.findall\n",
    "<p style=\"background-color:yellow\">SYNTAX - Pattern.findall</p>"
   ]
  },
  {
   "cell_type": "markdown",
   "id": "4c89e423",
   "metadata": {},
   "source": [
    "#### Pattern.finditer\n",
    "<p style=\"background-color:yellow\">SYNTAX - Pattern.finditer</p>"
   ]
  },
  {
   "cell_type": "markdown",
   "id": "26d99a6e",
   "metadata": {},
   "source": [
    "#### Pattern.sub\n",
    "<p style=\"background-color:yellow\">SYNTAX - Pattern.sub</p>"
   ]
  },
  {
   "cell_type": "markdown",
   "id": "bbbeee60",
   "metadata": {},
   "source": [
    "#### Pattern.subn\n",
    "<p style=\"background-color:yellow\">SYNTAX - Pattern.subn</p>"
   ]
  },
  {
   "cell_type": "markdown",
   "id": "0434fa85",
   "metadata": {},
   "source": [
    "#### Pattern.flags\n",
    "<p style=\"background-color:yellow\">SYNTAX - Pattern.flags</p>"
   ]
  },
  {
   "cell_type": "markdown",
   "id": "fe5a9fab",
   "metadata": {},
   "source": [
    "#### Pattern.groups\n",
    "<p style=\"background-color:yellow\">SYNTAX - Pattern.groups</p>"
   ]
  },
  {
   "cell_type": "markdown",
   "id": "d3361126",
   "metadata": {},
   "source": [
    "#### Pattern.groupindex\n",
    "<p style=\"background-color:yellow\">SYNTAX - Pattern.groupindex</p>"
   ]
  },
  {
   "cell_type": "markdown",
   "id": "05eb84f5",
   "metadata": {},
   "source": [
    "#### Pattern.pattern\n",
    "<p style=\"background-color:yellow\">SYNTAX - Pattern.pattern</p>"
   ]
  },
  {
   "cell_type": "markdown",
   "id": "52d3c2ac",
   "metadata": {},
   "source": [
    "[<p style=\"text-align:right\">[Back to Current Topic]</p>](#Regular-Expression-Objects)\n",
    "[<p style=\"text-align:right\">[Back to top]</p>](#re-—-Regular-expression-operations)"
   ]
  },
  {
   "cell_type": "markdown",
   "id": "0806c8ff",
   "metadata": {},
   "source": [
    "### Match Objects\n",
    "- [Match.expand](#Match.expand)\n",
    "- [Match.group](#Match.group)\n",
    "- [Match.groups](#Match.groups)\n",
    "- [Match.groupdict](#Match.groupdict)\n",
    "- [Match.start](#Match.start)\n",
    "- [Match.end](#Match.end)\n",
    "- [Match.span](#Match.span)\n",
    "- [Match.pos](#Match.pos)\n",
    "- [Match.endpos](#Match.endpos)\n",
    "- [Match.lastindex](#Match.lastindex)\n",
    "- [Match.lastgroup](#Match.lastgroup)\n",
    "- [Match.re](#Match.re)\n",
    "- [Match.string](#Match.string)"
   ]
  },
  {
   "cell_type": "markdown",
   "id": "d9122361",
   "metadata": {},
   "source": [
    "#### Match.expand\n",
    "<p style=\"background-color:yellow\">SYNTAX - Match.expand</p>"
   ]
  },
  {
   "cell_type": "markdown",
   "id": "02489309",
   "metadata": {},
   "source": [
    "#### Match.group\n",
    "<p style=\"background-color:yellow\">SYNTAX - Match.group</p>"
   ]
  },
  {
   "cell_type": "markdown",
   "id": "27cb8894",
   "metadata": {},
   "source": [
    "#### Match.groups\n",
    "<p style=\"background-color:yellow\">SYNTAX - Match.groups</p>"
   ]
  },
  {
   "cell_type": "markdown",
   "id": "5e58eb6b",
   "metadata": {},
   "source": [
    "#### Match.groupdict\n",
    "<p style=\"background-color:yellow\">SYNTAX - Match.groupdict</p>"
   ]
  },
  {
   "cell_type": "markdown",
   "id": "8ddcba03",
   "metadata": {},
   "source": [
    "#### Match.start\n",
    "<p style=\"background-color:yellow\">SYNTAX - Match.start</p>"
   ]
  },
  {
   "cell_type": "markdown",
   "id": "66003d4c",
   "metadata": {},
   "source": [
    "#### Match.end\n",
    "<p style=\"background-color:yellow\">SYNTAX - Match.end</p>"
   ]
  },
  {
   "cell_type": "markdown",
   "id": "2a734a2b",
   "metadata": {},
   "source": [
    "#### Match.span\n",
    "<p style=\"background-color:yellow\">SYNTAX - Match.span</p>"
   ]
  },
  {
   "cell_type": "markdown",
   "id": "49fd060c",
   "metadata": {},
   "source": [
    "#### Match.pos\n",
    "<p style=\"background-color:yellow\">SYNTAX - Match.pos</p>"
   ]
  },
  {
   "cell_type": "markdown",
   "id": "68b1ce20",
   "metadata": {},
   "source": [
    "#### Match.endpos\n",
    "<p style=\"background-color:yellow\">SYNTAX - Match.endpos</p>"
   ]
  },
  {
   "cell_type": "markdown",
   "id": "3476bb3b",
   "metadata": {},
   "source": [
    "#### Match.lastindex\n",
    "<p style=\"background-color:yellow\">SYNTAX - Match.lastindex</p>"
   ]
  },
  {
   "cell_type": "markdown",
   "id": "f3a7cae7",
   "metadata": {},
   "source": [
    "#### Match.lastgroup\n",
    "<p style=\"background-color:yellow\">SYNTAX - Match.lastgroup</p>"
   ]
  },
  {
   "cell_type": "markdown",
   "id": "f75494a4",
   "metadata": {},
   "source": [
    "#### Match.re\n",
    "<p style=\"background-color:yellow\">SYNTAX - Match.re</p>"
   ]
  },
  {
   "cell_type": "markdown",
   "id": "775ca108",
   "metadata": {},
   "source": [
    "#### Match.string\n",
    "<p style=\"background-color:yellow\">SYNTAX - Match.string</p>"
   ]
  },
  {
   "cell_type": "markdown",
   "id": "9ffac836",
   "metadata": {},
   "source": [
    "[<p style=\"text-align:right\">[Back to Current Topic]</p>](#Match-Objects)\n",
    "[<p style=\"text-align:right\">[Back to top]</p>](#re-—-Regular-expression-operations)"
   ]
  },
  {
   "cell_type": "markdown",
   "id": "c9a2b8d5",
   "metadata": {},
   "source": [
    "### re Flags\n",
    "- [re.A or re.ASCII](#re.A-or-re.ASCII)\n",
    "- [re.DEBUG](#re.DEBUG)\n",
    "- [re.I or re.IGNORECASE](#re.I-or-re.IGNORECASE)\n",
    "- [re.M or re.MULTILINE](#re.M-or-re.MULTILINE)\n",
    "- [re.NOFLAG](#re.NOFLAG)\n",
    "- [re.S or re.DOTALL](#re.S-or-re.DOTALL)\n",
    "- [re.X or re.VERBOSE](#re.X-or-re.VERBOSE)"
   ]
  },
  {
   "cell_type": "markdown",
   "id": "e4a6e35c",
   "metadata": {},
   "source": [
    "#### re.A or re.ASCII\n",
    "Make \\w, \\W, \\b, \\B, \\d, \\D, \\s and \\S perform ASCII-only matching instead of full Unicode matching."
   ]
  },
  {
   "cell_type": "code",
   "execution_count": 58,
   "id": "bda32d41",
   "metadata": {},
   "outputs": [],
   "source": [
    "# string with ASCII and Unicode characters\n",
    "txt = \"虎太郎 and Jessa are friends\"\n",
    "\n",
    "# Without re.A or re.ASCII\n",
    "# To match all 3-letter word\n",
    "result = re.findall(r\"\\b\\w{3}\\b\", txt)\n",
    "print(result)\n",
    "# Output ['虎太郎', 'and', 'are']\n",
    "\n",
    "# With re.A or re.ASCII\n",
    "# regex to match only 3-letter ASCII word\n",
    "result = re.findall(r\"\\b\\w{3}\\b\", txt, re.A)\n",
    "print(result)\n",
    "# Output ['and', 'are']"
   ]
  },
  {
   "cell_type": "code",
   "execution_count": 59,
   "id": "e9849f02",
   "metadata": {},
   "outputs": [],
   "source": [
    "txt = '\\u0967\\u096a\\u096c'\n",
    "print(txt)\n",
    "print(re.search('\\w+', txt))\n",
    "print(re.search('\\w+', txt, re.UNICODE))\n",
    "print(re.search('\\w+', txt, re.A))"
   ]
  },
  {
   "cell_type": "markdown",
   "id": "28018483",
   "metadata": {},
   "source": [
    "#### re.DEBUG\n",
    "Display debug information about compiled expression. No corresponding inline flag."
   ]
  },
  {
   "cell_type": "code",
   "execution_count": 60,
   "id": "9eca360f",
   "metadata": {},
   "outputs": [],
   "source": [
    "re.search('foo.bar', 'fooxbar', re.DEBUG)"
   ]
  },
  {
   "cell_type": "code",
   "execution_count": 61,
   "id": "daaba618",
   "metadata": {},
   "outputs": [],
   "source": [
    "txt = 'fooxbar'\n",
    "re.search('[a-z]{3}.[a-z]{3}', txt, re.DEBUG)"
   ]
  },
  {
   "cell_type": "markdown",
   "id": "b9deed40",
   "metadata": {},
   "source": [
    "#### re.I or re.IGNORECASE\n",
    "Perform case-insensitive matching; expressions like [A-Z] will also match lowercase letters."
   ]
  },
  {
   "cell_type": "code",
   "execution_count": 62,
   "id": "2e61e6a9",
   "metadata": {},
   "outputs": [],
   "source": [
    "txt = \"KELLy is a Python developer at a PYnative. kelly loves ML and AI\"\n",
    "\n",
    "# Without using re.I\n",
    "result = re.findall(r\"kelly\", txt)\n",
    "print(result)\n",
    "\n",
    "# with re.I\n",
    "result = re.findall(r\"kelly\", txt, re.I)\n",
    "print(result)\n",
    "\n",
    "# with re.IGNORECASE\n",
    "result = re.findall(r\"kelly\", txt, re.IGNORECASE)\n",
    "print(result)"
   ]
  },
  {
   "cell_type": "markdown",
   "id": "61d019b4",
   "metadata": {},
   "source": [
    "#### re.M or re.MULTILINE\n",
    "When specified, the pattern character '^' matches at the beginning of the string and at the beginning of each line (immediately following each newline); and the pattern character '\\\\$' matches at the end of the string and at the end of each line (immediately preceding each newline). By default, '^' matches only at the beginning of the string, and '\\\\$' only at the end of the string and immediately before the newline (if any) at the end of the string."
   ]
  },
  {
   "cell_type": "code",
   "execution_count": 63,
   "id": "053a55e9",
   "metadata": {},
   "outputs": [],
   "source": [
    "target_str = \"Joy lucky number is 75\\nTom lucky number is 25\"\n",
    "\n",
    "# find 3-letter word at the start of each newline\n",
    "# Without re.M or re.MULTILINE flag\n",
    "result = re.findall(r\"^\\w{3}\", target_str)\n",
    "print(result)  \n",
    "# Output ['Joy']\n",
    "\n",
    "# find 2-digit at the end of each newline\n",
    "# Without re.M or re.MULTILINE flag\n",
    "result = re.findall(r\"\\d{2}$\", target_str)\n",
    "print(result)\n",
    "# Output ['25']\n",
    "\n",
    "# With re.M or re.MULTILINE\n",
    "# find 3-letter word at the start of each newline\n",
    "result = re.findall(r\"^\\w{3}\", target_str, re.MULTILINE)\n",
    "print(result)\n",
    "# Output ['Joy', 'Tom']\n",
    "\n",
    "# With re.M\n",
    "# find 2-digit number at the end of each newline\n",
    "result = re.findall(r\"\\d{2}$\", target_str, re.M)\n",
    "print(result)\n",
    "# Output ['75', '25']"
   ]
  },
  {
   "cell_type": "markdown",
   "id": "54b9cbd2",
   "metadata": {},
   "source": [
    "#### re.NOFLAG\n",
    "Indicates no flag being applied, the value is 0. This flag may be used as a default value for a function keyword argument or as a base value that will be conditionally ORed with other flags."
   ]
  },
  {
   "cell_type": "markdown",
   "id": "57d98535",
   "metadata": {},
   "source": [
    "#### re.S or re.DOTALL\n",
    "Make the '.' special character match any character at all, including a newline; without this flag, '.' will match anything except a newline."
   ]
  },
  {
   "cell_type": "code",
   "execution_count": 64,
   "id": "0f8b6f31",
   "metadata": {},
   "outputs": [],
   "source": [
    "# string with newline character\n",
    "target_str = \"ML\\nand AI\"\n",
    "\n",
    "# Match any character\n",
    "result = re.search(r\".+\", target_str)\n",
    "print(\"Without using re.S flag:\", result.group())\n",
    "# Output 'ML'\n",
    "\n",
    "# With re.S flag\n",
    "result = re.search(r\".+\", target_str, re.S)\n",
    "print(\"With re.S flag:\", result.group())\n",
    "# Output 'ML\\nand AI'\n",
    "\n",
    "# With re.DOTALL flag\n",
    "result = re.search(r\".+\", target_str, re.DOTALL)\n",
    "print(\"With re.DOTALL flag:\", result.group())\n",
    "# Output 'ML\\nand AI'"
   ]
  },
  {
   "cell_type": "markdown",
   "id": "d84118d0",
   "metadata": {},
   "source": [
    "#### re.X or re.VERBOSE\n",
    "This flag allows you to write regular expressions that look nicer and are more readable by allowing you to visually separate logical sections of the pattern and add comments."
   ]
  },
  {
   "cell_type": "code",
   "execution_count": 65,
   "id": "873e3a13",
   "metadata": {},
   "outputs": [],
   "source": [
    "target_str = \"Jessa is a Python developer, and her salary is 8000\"\n",
    "\n",
    "# re.X to add indentation  and comment in regex\n",
    "result = re.search(r\"\"\"(^\\w{2,}) # match 5-letter word at the start\n",
    "                        .+(\\d{4}$) # match 4-digit number at the end \"\"\", target_str, re.X)\n",
    "# Fiver-letter word\n",
    "print(result.group(1))\n",
    "# Output 'Jessa'\n",
    "\n",
    "# 4-digit number\n",
    "print(result.group(2))\n",
    "# Output 8000"
   ]
  },
  {
   "cell_type": "markdown",
   "id": "5c60c9dc",
   "metadata": {},
   "source": [
    "[<p style=\"text-align:right\">[Back to Current Topic]</p>](#re-Flags)\n",
    "[<p style=\"text-align:right\">[Back to top]</p>](#re-—-Regular-expression-operations)"
   ]
  },
  {
   "cell_type": "code",
   "execution_count": null,
   "id": "7d400dcb",
   "metadata": {},
   "outputs": [],
   "source": []
  }
 ],
 "metadata": {
  "kernelspec": {
   "display_name": "Python 3 (ipykernel)",
   "language": "python",
   "name": "python3"
  },
  "language_info": {
   "codemirror_mode": {
    "name": "ipython",
    "version": 3
   },
   "file_extension": ".py",
   "mimetype": "text/x-python",
   "name": "python",
   "nbconvert_exporter": "python",
   "pygments_lexer": "ipython3",
   "version": "3.11.3"
  }
 },
 "nbformat": 4,
 "nbformat_minor": 5
}
